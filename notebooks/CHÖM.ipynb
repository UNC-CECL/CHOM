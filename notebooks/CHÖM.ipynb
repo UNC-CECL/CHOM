{
 "cells": [
  {
   "cell_type": "code",
   "execution_count": null,
   "id": "bb3f5d09",
   "metadata": {},
   "outputs": [],
   "source": [
    "import numpy as np\n",
    "import matplotlib.pyplot as plt\n",
    "from chom import Chom\n",
    "model=Chom()\n",
    "model.update()"
   ]
  },
  {
   "cell_type": "code",
   "execution_count": null,
   "id": "10b0ee4e",
   "metadata": {},
   "outputs": [],
   "source": [
    "ind=0\n",
    "while ind<35:\n",
    "    print(ind)\n",
    "    model.update()\n",
    "    ind+=1"
   ]
  },
  {
   "cell_type": "code",
   "execution_count": null,
   "id": "6f4fa546",
   "metadata": {},
   "outputs": [],
   "source": [
    "time_range = np.arange(1, model._time_index, 1)\n",
    "med_incOF = np.zeros(model._time_index)\n",
    "med_incNOF = np.zeros(model._time_index)\n",
    "med_wtpOF = np.zeros(model._time_index)\n",
    "med_wtpNOF = np.zeros(model._time_index)\n",
    "\n",
    "\n",
    "for i in range(0,model._time_index):\n",
    "    med_incOF[i]=np.median(model._savevar._of_income_distribution[:,i])\n",
    "    med_incNOF[i]=np.median(model._savevar._nof_income_distribution[:,i])\n",
    "    med_wtpOF[i]=np.median(model._savevar._of_willingness_to_pay[:,i])\n",
    "    med_wtpNOF[i]=np.median(model._savevar._nof_willingness_to_pay[:,i])"
   ]
  },
  {
   "cell_type": "code",
   "execution_count": null,
   "id": "66055b86",
   "metadata": {
    "scrolled": true
   },
   "outputs": [],
   "source": [
    "fig, axs = plt.subplots(2, 2, figsize=(25, 25))\n",
    "\n",
    "axs[0, 0].plot(model._agent_oceanfront._price[time_range])\n",
    "axs[0, 0].plot(model._agent_nonoceanfront._price[time_range])\n",
    "axs[0, 0].set_title(\"Property Value\")\n",
    "axs[0, 0].set_ylabel(\"$\")\n",
    "\n",
    "axs[0, 1].plot(model._mgmt._bw[time_range])\n",
    "axs[0, 1].plot(model._agentsame._Ebw[time_range])\n",
    "axs[0, 1].set_title(\"Beach Width\")\n",
    "axs[0, 1].set_ylabel(\"meters\")\n",
    "\n",
    "\n",
    "axs[1, 0].plot(med_incOF[time_range])\n",
    "axs[1, 0].plot(med_incNOF[time_range])\n",
    "axs[1, 0].set_title(\"Median Income Distribution\")\n",
    "axs[1, 0].set_ylabel(\"tax bracket\")\n",
    "\n",
    "# plt.title(\"Beach Width\")\n",
    "# plt.ylabel(\"m\")\n",
    "\n",
    "# plt.subplot(2,4,6)\n",
    "# plt.plot(model._mgmt._h_dune[time_range])\n",
    "# plt.title(\"Dune Height\")\n",
    "# plt.ylabel(\"m\")\n",
    "\n"
   ]
  },
  {
   "cell_type": "code",
   "execution_count": null,
   "id": "fad5e7d9",
   "metadata": {},
   "outputs": [],
   "source": [
    "model.time_index"
   ]
  },
  {
   "cell_type": "code",
   "execution_count": null,
   "id": "ff02ef1b",
   "metadata": {},
   "outputs": [],
   "source": []
  }
 ],
 "metadata": {
  "kernelspec": {
   "display_name": "Python 3",
   "language": "python",
   "name": "python3"
  },
  "language_info": {
   "codemirror_mode": {
    "name": "ipython",
    "version": 3
   },
   "file_extension": ".py",
   "mimetype": "text/x-python",
   "name": "python",
   "nbconvert_exporter": "python",
   "pygments_lexer": "ipython3",
   "version": "3.8.8"
  }
 },
 "nbformat": 4,
 "nbformat_minor": 5
}
